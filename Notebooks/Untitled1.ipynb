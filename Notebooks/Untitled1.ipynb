{
 "cells": [
  {
   "cell_type": "code",
   "execution_count": 1,
   "metadata": {},
   "outputs": [
    {
     "data": {
      "text/plain": [
       "array([[ 0.15835648, -0.06458184,  0.28088118,  0.0954863 ,  0.12074526,\n",
       "        -0.02246221],\n",
       "       [ 0.16594055,  1.02653795, -0.1241919 , -1.23614761,  0.30301208,\n",
       "         0.33449009],\n",
       "       [-0.11476644, -1.51587742,  0.36394812,  2.79533111, -0.38099851,\n",
       "        -0.19365087],\n",
       "       [ 0.43403191,  1.15928068,  0.2922137 , -2.4302051 ,  0.59242191,\n",
       "         0.04155929],\n",
       "       [ 0.30692528,  0.56655552,  0.2962198 , -1.17886939,  0.36810067,\n",
       "         0.01915191],\n",
       "       [ 0.2665672 ,  1.24017528, -0.03095749, -1.87156709,  0.43750666,\n",
       "         0.2821758 ]])"
      ]
     },
     "execution_count": 1,
     "metadata": {},
     "output_type": "execute_result"
    }
   ],
   "source": [
    "import numpy as np\n",
    "# wipi = McMtPi\n",
    "Pi = [[0,3,50],\n",
    "    [2,-5,47], \n",
    "    [-1,7,60], \n",
    "    [5,-1,40], \n",
    "    [0,2,45], \n",
    "    [3,-4,44]] \n",
    "Pi = np.array(Pi)\n",
    "# Pi = np.float32(Pi[:, np.newaxis, :])\n",
    "\n",
    "gi = [[0,3,30],\n",
    "    [-3,-5,28],\n",
    "    [10,7,31],\n",
    "    [-10,1,25],\n",
    "    [-5,2,30],\n",
    "    [-6,-4,27]]\n",
    "gi = np.array(gi)\n",
    "Mc = np.eye(6)\n",
    "Mc1 = np.matmul(Mc, Pi)\n",
    "#print(Mc1)\n",
    "# Mc1\n",
    "Mt = np.matmul(gi, np.linalg.pinv(Mc1))\n",
    "# print(Mc)\n",
    "Mt\n"
   ]
  },
  {
   "cell_type": "code",
   "execution_count": null,
   "metadata": {},
   "outputs": [],
   "source": [
    "# cv2.solvePnPRansac(Pi, imagePoints, cameraMatrix= Mc, rvec= Mc, tvec= Mc, useExtrinsicGuess[, iterationsCount[, reprojectionError[, minInliersCount[, inliers[, flags]]]]]]]])"
   ]
  }
 ],
 "metadata": {
  "kernelspec": {
   "display_name": "Python 3",
   "language": "python",
   "name": "python3"
  },
  "language_info": {
   "codemirror_mode": {
    "name": "ipython",
    "version": 3
   },
   "file_extension": ".py",
   "mimetype": "text/x-python",
   "name": "python",
   "nbconvert_exporter": "python",
   "pygments_lexer": "ipython3",
   "version": "3.6.6"
  }
 },
 "nbformat": 4,
 "nbformat_minor": 2
}
